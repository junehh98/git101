{
 "cells": [
  {
   "attachments": {},
   "cell_type": "markdown",
   "metadata": {},
   "source": [
    "<br>\n",
    "<br>\n",
    "<div><b><font size=\"15\">&nbsp;&nbsp;&nbsp;&nbsp;&nbsp;&nbsp;How to use git and github &nbsp;&nbsp;&nbsp;&nbsp;&nbsp;&nbsp;&nbsp;&nbsp;&nbsp;&nbsp;&nbsp;&nbsp;\n",
    "</font></b></div>\n",
    "<br>\n",
    "<br>\n",
    "<br>\n",
    "<br>\n",
    "<br>\n",
    "<br>\n",
    "<br>\n",
    "<br>\n",
    "<br>\n",
    "<br>\n",
    "<br>\n",
    "<br>\n",
    "<div style=\"text-align: right; font-size: 18px; font-weight: bold\">   Kuem, June Ho |  Seo, Roy | Yoo, Jin Kwon  </div> <br> <br> \n",
    "<div style=\"text-align: right; font-size: 15px\">  wnsgh1663'at''gmail''dot''com' jinkwonyoo'at''gmail''dot''com' | royseo'at''uw''dot''edu'  </div> \n",
    "<div style=\"text-align: right; font-size: 15px\">  GitHub @jinkwonyoo | @royjoysoy |@junehh98 </div>\n",
    "<br>\n",
    "<br>\n",
    "<br>\n",
    "<br>\n",
    "<br>"
   ]
  },
  {
   "attachments": {},
   "cell_type": "markdown",
   "metadata": {},
   "source": [
    "sdfsdf"
   ]
  }
 ],
 "metadata": {
  "kernelspec": {
   "display_name": "base",
   "language": "python",
   "name": "python3"
  },
  "language_info": {
   "codemirror_mode": {
    "name": "ipython",
    "version": 3
   },
   "file_extension": ".py",
   "mimetype": "text/x-python",
   "name": "python",
   "nbconvert_exporter": "python",
   "pygments_lexer": "ipython3",
   "version": "3.9.16"
  },
  "orig_nbformat": 4
 },
 "nbformat": 4,
 "nbformat_minor": 2
}
